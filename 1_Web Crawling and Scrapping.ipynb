{
 "cells": [
  {
   "cell_type": "code",
   "execution_count": 11,
   "metadata": {},
   "outputs": [],
   "source": [
    "\n",
    "import json\n",
    "from bs4 import BeautifulSoup as bs\n",
    "import requests\n",
    "import pandas as pd\n",
    "import pprint\n",
    "import re\n",
    "\n",
    "url = \"https://www.coingecko.com/\"\n",
    "r = requests.get(url)\n",
    "soup = bs(r.content, 'html.parser')\n",
    "\n",
    "results = soup.find_all('a')\n",
    "\n",
    "#create empty list\n",
    "tags=[]\n",
    "\n",
    "#traverse the result and store the hyperlink data into tags list\n",
    "for tag in results:\n",
    "    tags.append(str(tag))\n",
    "\n",
    "baseurl='https://www.coingecko.com'\n",
    "\n",
    "historytag=[]\n",
    "\n",
    "for htag in tags:\n",
    "    if 'd-lg-none font-bold tw-w-12' in htag and 'img class' not in htag:\n",
    "        mytag=htag.replace('<a class=\"d-lg-none font-bold tw-w-12\" href=\"', '')\n",
    "         \n",
    "        instanceofquotes = mytag.find('\"')\n",
    "        #cleanurl = lenofstring - instanceofquotes \n",
    "        mytag_cleaned = (mytag[0:instanceofquotes])\n",
    "        historytag.append(baseurl+mytag_cleaned+'/historical_data?end_date=2022-05-17&start_date=2016-05-01&page=')\n",
    "        #historytag.append(baseurl+mytag)\n",
    "\n",
    "#print(historytag)\n",
    "\n",
    "res = []\n",
    "\n",
    "for each in historytag:\n",
    "    for i in range(1,38):\n",
    "    \n",
    "        r1 = requests.get(each.lower()+str(i))\n",
    "        soup1 = bs(r1.content, 'html.parser')\n",
    "        tabledata = soup1.find('table', {'class' : 'table table-striped text-sm text-lg-normal'})\n",
    "        tablebody = tabledata.find('tbody')\n",
    "        tablerow = tablebody.find_all('tr')\n",
    "        currecny = each.split(\"/\")[5]\n",
    "        #print(currecny)\n",
    "        for each1 in tablerow:\n",
    "\n",
    "            tableth = each1.find('th')\n",
    "            #print(tableth.text.strip())\n",
    "            tabletd = each1.find_all('td')\n",
    "            #print(tabletd[0].text.strip(),tabletd[1].text.strip(),tabletd[2].text.strip(),tabletd[3].text.strip())\n",
    "            response = dict()\n",
    "            response['Date'] = tableth.text.strip()\n",
    "            response['Currency'] = currecny\n",
    "            response['MarketCap'] = tabletd[0].text.strip()\n",
    "            response['Volume'] = tabletd[1].text.strip()\n",
    "            response['Open'] = tabletd[2].text.strip()\n",
    "            response['Close'] = tabletd[3].text.strip()\n",
    "            res.append(response)\n",
    "        \n",
    "        \n",
    "with open('data.json','w') as f:\n",
    "        json.dump(res,f)"
   ]
  },
  {
   "cell_type": "code",
   "execution_count": 13,
   "metadata": {},
   "outputs": [
    {
     "data": {
      "text/plain": [
       "112835"
      ]
     },
     "execution_count": 13,
     "metadata": {},
     "output_type": "execute_result"
    }
   ],
   "source": [
    "len(res)"
   ]
  },
  {
   "cell_type": "code",
   "execution_count": null,
   "metadata": {},
   "outputs": [],
   "source": []
  }
 ],
 "metadata": {
  "kernelspec": {
   "display_name": "Python 3",
   "language": "python",
   "name": "python3"
  },
  "language_info": {
   "codemirror_mode": {
    "name": "ipython",
    "version": 3
   },
   "file_extension": ".py",
   "mimetype": "text/x-python",
   "name": "python",
   "nbconvert_exporter": "python",
   "pygments_lexer": "ipython3",
   "version": "3.8.5"
  }
 },
 "nbformat": 4,
 "nbformat_minor": 5
}
