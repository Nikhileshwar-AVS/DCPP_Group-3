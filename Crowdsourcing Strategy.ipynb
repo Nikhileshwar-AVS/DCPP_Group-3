{
 "cells": [
  {
   "cell_type": "code",
   "execution_count": 1,
   "id": "22c4b50d",
   "metadata": {},
   "outputs": [],
   "source": [
    "#Importing required libraries\n",
    "import json\n",
    "import snscrape.modules.twitter as sntwitter\n",
    "import pandas as pd\n",
    "import matplotlib.pyplot as plt\n",
    "import seaborn as sns\n",
    "import re  \n",
    "import numpy as np\n",
    "import spacy\n",
    "from spacy import displacy\n",
    "from collections import Counter\n",
    "import en_core_web_sm\n",
    "import tweepy\n",
    "from textblob import TextBlob\n",
    "import re\n",
    "import matplotlib.pyplot as plt\n",
    "plt.style.use('fivethirtyeight')"
   ]
  },
  {
   "cell_type": "markdown",
   "id": "2524a4ad",
   "metadata": {},
   "source": [
    "## Below code used to get the 50000 tweets for both Bitcoin & Ethereum & Saved them into JSON"
   ]
  },
  {
   "cell_type": "code",
   "execution_count": 2,
   "id": "05677f17",
   "metadata": {},
   "outputs": [],
   "source": [
    "#Tweet_limits = 50000\n",
    "\n",
    "#tweet_list = [] #Creating list to append tweet data to\n",
    "\n",
    "#for i,tweet in enumerate(sntwitter.TwitterSearchScraper('ethereum since:2020-03-21 until:2022-04-30').get_items()):\n",
    "#    if i>Tweet_limits:\n",
    "#        break\n",
    "#    tweet_list.append([tweet.date, tweet.id, tweet.content, tweet.username])"
   ]
  },
  {
   "cell_type": "code",
   "execution_count": 3,
   "id": "1a0e752e",
   "metadata": {},
   "outputs": [],
   "source": [
    "#with open('ethereumtweet.json','w') as f:\n",
    "#    json.dump(tweet_list,f, default=str)"
   ]
  },
  {
   "cell_type": "markdown",
   "id": "76fece5b",
   "metadata": {},
   "source": [
    "## Going forward, we will do our analysis using the json files only."
   ]
  },
  {
   "cell_type": "code",
   "execution_count": 4,
   "id": "d0405726",
   "metadata": {},
   "outputs": [
    {
     "data": {
      "text/html": [
       "<div>\n",
       "<style scoped>\n",
       "    .dataframe tbody tr th:only-of-type {\n",
       "        vertical-align: middle;\n",
       "    }\n",
       "\n",
       "    .dataframe tbody tr th {\n",
       "        vertical-align: top;\n",
       "    }\n",
       "\n",
       "    .dataframe thead th {\n",
       "        text-align: right;\n",
       "    }\n",
       "</style>\n",
       "<table border=\"1\" class=\"dataframe\">\n",
       "  <thead>\n",
       "    <tr style=\"text-align: right;\">\n",
       "      <th></th>\n",
       "      <th>0</th>\n",
       "      <th>1</th>\n",
       "      <th>2</th>\n",
       "      <th>3</th>\n",
       "    </tr>\n",
       "  </thead>\n",
       "  <tbody>\n",
       "    <tr>\n",
       "      <th>0</th>\n",
       "      <td>2022-04-29 23:59:58+00:00</td>\n",
       "      <td>1520191193321295872</td>\n",
       "      <td>#Bitcoin (#BTC) Price Update:\\n    \\nPrice: $3...</td>\n",
       "      <td>cr_bitcoin</td>\n",
       "    </tr>\n",
       "    <tr>\n",
       "      <th>1</th>\n",
       "      <td>2022-04-29 23:59:58+00:00</td>\n",
       "      <td>1520191192243265536</td>\n",
       "      <td>Bitcoin price index https://t.co/o7UcHJUhC6 #U...</td>\n",
       "      <td>WorldCoinIndex</td>\n",
       "    </tr>\n",
       "    <tr>\n",
       "      <th>2</th>\n",
       "      <td>2022-04-29 23:59:58+00:00</td>\n",
       "      <td>1520191191098265608</td>\n",
       "      <td>#silver ape alert emergency update. Jump in : ...</td>\n",
       "      <td>AMoneyfest</td>\n",
       "    </tr>\n",
       "    <tr>\n",
       "      <th>3</th>\n",
       "      <td>2022-04-29 23:59:56+00:00</td>\n",
       "      <td>1520191181937954817</td>\n",
       "      <td>The Dilemma Faced by All Beginners in the Bitc...</td>\n",
       "      <td>pilscoop</td>\n",
       "    </tr>\n",
       "    <tr>\n",
       "      <th>4</th>\n",
       "      <td>2022-04-29 23:59:55+00:00</td>\n",
       "      <td>1520191176854454273</td>\n",
       "      <td>#Bitcoin Last Price $38575 #BTC 🚀\\nDaily Indic...</td>\n",
       "      <td>LivePriceCrypto</td>\n",
       "    </tr>\n",
       "  </tbody>\n",
       "</table>\n",
       "</div>"
      ],
      "text/plain": [
       "                           0                    1  \\\n",
       "0  2022-04-29 23:59:58+00:00  1520191193321295872   \n",
       "1  2022-04-29 23:59:58+00:00  1520191192243265536   \n",
       "2  2022-04-29 23:59:58+00:00  1520191191098265608   \n",
       "3  2022-04-29 23:59:56+00:00  1520191181937954817   \n",
       "4  2022-04-29 23:59:55+00:00  1520191176854454273   \n",
       "\n",
       "                                                   2                3  \n",
       "0  #Bitcoin (#BTC) Price Update:\\n    \\nPrice: $3...       cr_bitcoin  \n",
       "1  Bitcoin price index https://t.co/o7UcHJUhC6 #U...   WorldCoinIndex  \n",
       "2  #silver ape alert emergency update. Jump in : ...       AMoneyfest  \n",
       "3  The Dilemma Faced by All Beginners in the Bitc...         pilscoop  \n",
       "4  #Bitcoin Last Price $38575 #BTC 🚀\\nDaily Indic...  LivePriceCrypto  "
      ]
     },
     "execution_count": 4,
     "metadata": {},
     "output_type": "execute_result"
    }
   ],
   "source": [
    "#reading bitcoin tweets and ethereum tweets json into datafram\n",
    "\n",
    "df = pd.read_json('bitcointweets.json')\n",
    "df2 = pd.read_json('ethereumtweets.json')\n",
    "df.head()"
   ]
  },
  {
   "cell_type": "code",
   "execution_count": 5,
   "id": "e402fa55",
   "metadata": {},
   "outputs": [
    {
     "data": {
      "text/html": [
       "<div>\n",
       "<style scoped>\n",
       "    .dataframe tbody tr th:only-of-type {\n",
       "        vertical-align: middle;\n",
       "    }\n",
       "\n",
       "    .dataframe tbody tr th {\n",
       "        vertical-align: top;\n",
       "    }\n",
       "\n",
       "    .dataframe thead th {\n",
       "        text-align: right;\n",
       "    }\n",
       "</style>\n",
       "<table border=\"1\" class=\"dataframe\">\n",
       "  <thead>\n",
       "    <tr style=\"text-align: right;\">\n",
       "      <th></th>\n",
       "      <th>0</th>\n",
       "      <th>1</th>\n",
       "      <th>2</th>\n",
       "      <th>3</th>\n",
       "    </tr>\n",
       "  </thead>\n",
       "  <tbody>\n",
       "    <tr>\n",
       "      <th>0</th>\n",
       "      <td>2022-04-29 23:59:56+00:00</td>\n",
       "      <td>1520191181547884544</td>\n",
       "      <td>I know it may not feel like it but this is the...</td>\n",
       "      <td>win9999win</td>\n",
       "    </tr>\n",
       "    <tr>\n",
       "      <th>1</th>\n",
       "      <td>2022-04-29 23:59:55+00:00</td>\n",
       "      <td>1520191176854454273</td>\n",
       "      <td>#Bitcoin Last Price $38575 #BTC 🚀\\nDaily Indic...</td>\n",
       "      <td>LivePriceCrypto</td>\n",
       "    </tr>\n",
       "    <tr>\n",
       "      <th>2</th>\n",
       "      <td>2022-04-29 23:59:49+00:00</td>\n",
       "      <td>1520191152128937992</td>\n",
       "      <td>You know whose been swimming with their trunks...</td>\n",
       "      <td>ManagerMr1</td>\n",
       "    </tr>\n",
       "    <tr>\n",
       "      <th>3</th>\n",
       "      <td>2022-04-29 23:59:44+00:00</td>\n",
       "      <td>1520191133019684864</td>\n",
       "      <td>How much #Ethereum should one pleb own? 1 whol...</td>\n",
       "      <td>NatePolmateer</td>\n",
       "    </tr>\n",
       "    <tr>\n",
       "      <th>4</th>\n",
       "      <td>2022-04-29 23:59:28+00:00</td>\n",
       "      <td>1520191067420823553</td>\n",
       "      <td>Culpower found #ethereum in a User vault at th...</td>\n",
       "      <td>Culpower</td>\n",
       "    </tr>\n",
       "  </tbody>\n",
       "</table>\n",
       "</div>"
      ],
      "text/plain": [
       "                           0                    1  \\\n",
       "0  2022-04-29 23:59:56+00:00  1520191181547884544   \n",
       "1  2022-04-29 23:59:55+00:00  1520191176854454273   \n",
       "2  2022-04-29 23:59:49+00:00  1520191152128937992   \n",
       "3  2022-04-29 23:59:44+00:00  1520191133019684864   \n",
       "4  2022-04-29 23:59:28+00:00  1520191067420823553   \n",
       "\n",
       "                                                   2                3  \n",
       "0  I know it may not feel like it but this is the...       win9999win  \n",
       "1  #Bitcoin Last Price $38575 #BTC 🚀\\nDaily Indic...  LivePriceCrypto  \n",
       "2  You know whose been swimming with their trunks...       ManagerMr1  \n",
       "3  How much #Ethereum should one pleb own? 1 whol...    NatePolmateer  \n",
       "4  Culpower found #ethereum in a User vault at th...         Culpower  "
      ]
     },
     "execution_count": 5,
     "metadata": {},
     "output_type": "execute_result"
    }
   ],
   "source": [
    "df2.head()"
   ]
  },
  {
   "cell_type": "code",
   "execution_count": 6,
   "id": "4341c3e8",
   "metadata": {},
   "outputs": [],
   "source": [
    "#Changing the name of the columns as needed for bitcoin\n",
    "\n",
    "df.rename(columns = {0:'Datetime'}, inplace = True)\n",
    "df.rename(columns = {1:'Tweet_id'}, inplace = True)\n",
    "df.rename(columns = {2:'Tweet'}, inplace = True)\n",
    "df.rename(columns = {3:'User'}, inplace = True)"
   ]
  },
  {
   "cell_type": "code",
   "execution_count": 7,
   "id": "b0289fcf",
   "metadata": {},
   "outputs": [],
   "source": [
    "#Changing the name of the columns as needed for ethereum\n",
    "\n",
    "df2.rename(columns = {0:'Datetime'}, inplace = True)\n",
    "df2.rename(columns = {1:'Tweet_id'}, inplace = True)\n",
    "df2.rename(columns = {2:'Tweet'}, inplace = True)\n",
    "df2.rename(columns = {3:'User'}, inplace = True)"
   ]
  },
  {
   "cell_type": "code",
   "execution_count": 8,
   "id": "53f1c639",
   "metadata": {},
   "outputs": [
    {
     "data": {
      "text/html": [
       "<div>\n",
       "<style scoped>\n",
       "    .dataframe tbody tr th:only-of-type {\n",
       "        vertical-align: middle;\n",
       "    }\n",
       "\n",
       "    .dataframe tbody tr th {\n",
       "        vertical-align: top;\n",
       "    }\n",
       "\n",
       "    .dataframe thead th {\n",
       "        text-align: right;\n",
       "    }\n",
       "</style>\n",
       "<table border=\"1\" class=\"dataframe\">\n",
       "  <thead>\n",
       "    <tr style=\"text-align: right;\">\n",
       "      <th></th>\n",
       "      <th>Datetime</th>\n",
       "      <th>Tweet_id</th>\n",
       "      <th>Tweet</th>\n",
       "      <th>User</th>\n",
       "    </tr>\n",
       "  </thead>\n",
       "  <tbody>\n",
       "    <tr>\n",
       "      <th>0</th>\n",
       "      <td>2022-04-29 23:59:58+00:00</td>\n",
       "      <td>1520191193321295872</td>\n",
       "      <td>#Bitcoin (#BTC) Price Update:\\n    \\nPrice: $3...</td>\n",
       "      <td>cr_bitcoin</td>\n",
       "    </tr>\n",
       "    <tr>\n",
       "      <th>1</th>\n",
       "      <td>2022-04-29 23:59:58+00:00</td>\n",
       "      <td>1520191192243265536</td>\n",
       "      <td>Bitcoin price index https://t.co/o7UcHJUhC6 #U...</td>\n",
       "      <td>WorldCoinIndex</td>\n",
       "    </tr>\n",
       "    <tr>\n",
       "      <th>2</th>\n",
       "      <td>2022-04-29 23:59:58+00:00</td>\n",
       "      <td>1520191191098265608</td>\n",
       "      <td>#silver ape alert emergency update. Jump in : ...</td>\n",
       "      <td>AMoneyfest</td>\n",
       "    </tr>\n",
       "    <tr>\n",
       "      <th>3</th>\n",
       "      <td>2022-04-29 23:59:56+00:00</td>\n",
       "      <td>1520191181937954817</td>\n",
       "      <td>The Dilemma Faced by All Beginners in the Bitc...</td>\n",
       "      <td>pilscoop</td>\n",
       "    </tr>\n",
       "    <tr>\n",
       "      <th>4</th>\n",
       "      <td>2022-04-29 23:59:55+00:00</td>\n",
       "      <td>1520191176854454273</td>\n",
       "      <td>#Bitcoin Last Price $38575 #BTC 🚀\\nDaily Indic...</td>\n",
       "      <td>LivePriceCrypto</td>\n",
       "    </tr>\n",
       "  </tbody>\n",
       "</table>\n",
       "</div>"
      ],
      "text/plain": [
       "                    Datetime             Tweet_id  \\\n",
       "0  2022-04-29 23:59:58+00:00  1520191193321295872   \n",
       "1  2022-04-29 23:59:58+00:00  1520191192243265536   \n",
       "2  2022-04-29 23:59:58+00:00  1520191191098265608   \n",
       "3  2022-04-29 23:59:56+00:00  1520191181937954817   \n",
       "4  2022-04-29 23:59:55+00:00  1520191176854454273   \n",
       "\n",
       "                                               Tweet             User  \n",
       "0  #Bitcoin (#BTC) Price Update:\\n    \\nPrice: $3...       cr_bitcoin  \n",
       "1  Bitcoin price index https://t.co/o7UcHJUhC6 #U...   WorldCoinIndex  \n",
       "2  #silver ape alert emergency update. Jump in : ...       AMoneyfest  \n",
       "3  The Dilemma Faced by All Beginners in the Bitc...         pilscoop  \n",
       "4  #Bitcoin Last Price $38575 #BTC 🚀\\nDaily Indic...  LivePriceCrypto  "
      ]
     },
     "execution_count": 8,
     "metadata": {},
     "output_type": "execute_result"
    }
   ],
   "source": [
    "df.head()"
   ]
  },
  {
   "cell_type": "code",
   "execution_count": 9,
   "id": "ab7590b4",
   "metadata": {},
   "outputs": [
    {
     "data": {
      "text/html": [
       "<div>\n",
       "<style scoped>\n",
       "    .dataframe tbody tr th:only-of-type {\n",
       "        vertical-align: middle;\n",
       "    }\n",
       "\n",
       "    .dataframe tbody tr th {\n",
       "        vertical-align: top;\n",
       "    }\n",
       "\n",
       "    .dataframe thead th {\n",
       "        text-align: right;\n",
       "    }\n",
       "</style>\n",
       "<table border=\"1\" class=\"dataframe\">\n",
       "  <thead>\n",
       "    <tr style=\"text-align: right;\">\n",
       "      <th></th>\n",
       "      <th>Datetime</th>\n",
       "      <th>Tweet_id</th>\n",
       "      <th>Tweet</th>\n",
       "      <th>User</th>\n",
       "    </tr>\n",
       "  </thead>\n",
       "  <tbody>\n",
       "    <tr>\n",
       "      <th>0</th>\n",
       "      <td>2022-04-29 23:59:56+00:00</td>\n",
       "      <td>1520191181547884544</td>\n",
       "      <td>I know it may not feel like it but this is the...</td>\n",
       "      <td>win9999win</td>\n",
       "    </tr>\n",
       "    <tr>\n",
       "      <th>1</th>\n",
       "      <td>2022-04-29 23:59:55+00:00</td>\n",
       "      <td>1520191176854454273</td>\n",
       "      <td>#Bitcoin Last Price $38575 #BTC 🚀\\nDaily Indic...</td>\n",
       "      <td>LivePriceCrypto</td>\n",
       "    </tr>\n",
       "    <tr>\n",
       "      <th>2</th>\n",
       "      <td>2022-04-29 23:59:49+00:00</td>\n",
       "      <td>1520191152128937992</td>\n",
       "      <td>You know whose been swimming with their trunks...</td>\n",
       "      <td>ManagerMr1</td>\n",
       "    </tr>\n",
       "    <tr>\n",
       "      <th>3</th>\n",
       "      <td>2022-04-29 23:59:44+00:00</td>\n",
       "      <td>1520191133019684864</td>\n",
       "      <td>How much #Ethereum should one pleb own? 1 whol...</td>\n",
       "      <td>NatePolmateer</td>\n",
       "    </tr>\n",
       "    <tr>\n",
       "      <th>4</th>\n",
       "      <td>2022-04-29 23:59:28+00:00</td>\n",
       "      <td>1520191067420823553</td>\n",
       "      <td>Culpower found #ethereum in a User vault at th...</td>\n",
       "      <td>Culpower</td>\n",
       "    </tr>\n",
       "  </tbody>\n",
       "</table>\n",
       "</div>"
      ],
      "text/plain": [
       "                    Datetime             Tweet_id  \\\n",
       "0  2022-04-29 23:59:56+00:00  1520191181547884544   \n",
       "1  2022-04-29 23:59:55+00:00  1520191176854454273   \n",
       "2  2022-04-29 23:59:49+00:00  1520191152128937992   \n",
       "3  2022-04-29 23:59:44+00:00  1520191133019684864   \n",
       "4  2022-04-29 23:59:28+00:00  1520191067420823553   \n",
       "\n",
       "                                               Tweet             User  \n",
       "0  I know it may not feel like it but this is the...       win9999win  \n",
       "1  #Bitcoin Last Price $38575 #BTC 🚀\\nDaily Indic...  LivePriceCrypto  \n",
       "2  You know whose been swimming with their trunks...       ManagerMr1  \n",
       "3  How much #Ethereum should one pleb own? 1 whol...    NatePolmateer  \n",
       "4  Culpower found #ethereum in a User vault at th...         Culpower  "
      ]
     },
     "execution_count": 9,
     "metadata": {},
     "output_type": "execute_result"
    }
   ],
   "source": [
    "df2.head()"
   ]
  },
  {
   "cell_type": "code",
   "execution_count": 10,
   "id": "8717ba8d",
   "metadata": {},
   "outputs": [],
   "source": [
    "# Dropping all the data but tweets from bitcoin dataframe\n",
    "\n",
    "df.drop('Tweet_id', inplace=True, axis=1)\n",
    "df.drop('User', inplace=True, axis=1)"
   ]
  },
  {
   "cell_type": "code",
   "execution_count": 11,
   "id": "3be8eac3",
   "metadata": {},
   "outputs": [],
   "source": [
    "# Dropping all the data but tweets from ethereum dataframe\n",
    "\n",
    "df2.drop('Tweet_id', inplace=True, axis=1)\n",
    "df2.drop('User', inplace=True, axis=1)"
   ]
  },
  {
   "cell_type": "code",
   "execution_count": 12,
   "id": "56a769f9",
   "metadata": {},
   "outputs": [
    {
     "data": {
      "text/html": [
       "<div>\n",
       "<style scoped>\n",
       "    .dataframe tbody tr th:only-of-type {\n",
       "        vertical-align: middle;\n",
       "    }\n",
       "\n",
       "    .dataframe tbody tr th {\n",
       "        vertical-align: top;\n",
       "    }\n",
       "\n",
       "    .dataframe thead th {\n",
       "        text-align: right;\n",
       "    }\n",
       "</style>\n",
       "<table border=\"1\" class=\"dataframe\">\n",
       "  <thead>\n",
       "    <tr style=\"text-align: right;\">\n",
       "      <th></th>\n",
       "      <th>Datetime</th>\n",
       "      <th>Tweet</th>\n",
       "    </tr>\n",
       "  </thead>\n",
       "  <tbody>\n",
       "    <tr>\n",
       "      <th>0</th>\n",
       "      <td>2022-04-29 23:59:58+00:00</td>\n",
       "      <td>#Bitcoin (#BTC) Price Update:\\n    \\nPrice: $3...</td>\n",
       "    </tr>\n",
       "    <tr>\n",
       "      <th>1</th>\n",
       "      <td>2022-04-29 23:59:58+00:00</td>\n",
       "      <td>Bitcoin price index https://t.co/o7UcHJUhC6 #U...</td>\n",
       "    </tr>\n",
       "    <tr>\n",
       "      <th>2</th>\n",
       "      <td>2022-04-29 23:59:58+00:00</td>\n",
       "      <td>#silver ape alert emergency update. Jump in : ...</td>\n",
       "    </tr>\n",
       "    <tr>\n",
       "      <th>3</th>\n",
       "      <td>2022-04-29 23:59:56+00:00</td>\n",
       "      <td>The Dilemma Faced by All Beginners in the Bitc...</td>\n",
       "    </tr>\n",
       "    <tr>\n",
       "      <th>4</th>\n",
       "      <td>2022-04-29 23:59:55+00:00</td>\n",
       "      <td>#Bitcoin Last Price $38575 #BTC 🚀\\nDaily Indic...</td>\n",
       "    </tr>\n",
       "  </tbody>\n",
       "</table>\n",
       "</div>"
      ],
      "text/plain": [
       "                    Datetime  \\\n",
       "0  2022-04-29 23:59:58+00:00   \n",
       "1  2022-04-29 23:59:58+00:00   \n",
       "2  2022-04-29 23:59:58+00:00   \n",
       "3  2022-04-29 23:59:56+00:00   \n",
       "4  2022-04-29 23:59:55+00:00   \n",
       "\n",
       "                                               Tweet  \n",
       "0  #Bitcoin (#BTC) Price Update:\\n    \\nPrice: $3...  \n",
       "1  Bitcoin price index https://t.co/o7UcHJUhC6 #U...  \n",
       "2  #silver ape alert emergency update. Jump in : ...  \n",
       "3  The Dilemma Faced by All Beginners in the Bitc...  \n",
       "4  #Bitcoin Last Price $38575 #BTC 🚀\\nDaily Indic...  "
      ]
     },
     "execution_count": 12,
     "metadata": {},
     "output_type": "execute_result"
    }
   ],
   "source": [
    "df.head()"
   ]
  },
  {
   "cell_type": "code",
   "execution_count": 13,
   "id": "47dc7d26",
   "metadata": {},
   "outputs": [
    {
     "data": {
      "text/html": [
       "<div>\n",
       "<style scoped>\n",
       "    .dataframe tbody tr th:only-of-type {\n",
       "        vertical-align: middle;\n",
       "    }\n",
       "\n",
       "    .dataframe tbody tr th {\n",
       "        vertical-align: top;\n",
       "    }\n",
       "\n",
       "    .dataframe thead th {\n",
       "        text-align: right;\n",
       "    }\n",
       "</style>\n",
       "<table border=\"1\" class=\"dataframe\">\n",
       "  <thead>\n",
       "    <tr style=\"text-align: right;\">\n",
       "      <th></th>\n",
       "      <th>Datetime</th>\n",
       "      <th>Tweet</th>\n",
       "    </tr>\n",
       "  </thead>\n",
       "  <tbody>\n",
       "    <tr>\n",
       "      <th>0</th>\n",
       "      <td>2022-04-29 23:59:56+00:00</td>\n",
       "      <td>I know it may not feel like it but this is the...</td>\n",
       "    </tr>\n",
       "    <tr>\n",
       "      <th>1</th>\n",
       "      <td>2022-04-29 23:59:55+00:00</td>\n",
       "      <td>#Bitcoin Last Price $38575 #BTC 🚀\\nDaily Indic...</td>\n",
       "    </tr>\n",
       "    <tr>\n",
       "      <th>2</th>\n",
       "      <td>2022-04-29 23:59:49+00:00</td>\n",
       "      <td>You know whose been swimming with their trunks...</td>\n",
       "    </tr>\n",
       "    <tr>\n",
       "      <th>3</th>\n",
       "      <td>2022-04-29 23:59:44+00:00</td>\n",
       "      <td>How much #Ethereum should one pleb own? 1 whol...</td>\n",
       "    </tr>\n",
       "    <tr>\n",
       "      <th>4</th>\n",
       "      <td>2022-04-29 23:59:28+00:00</td>\n",
       "      <td>Culpower found #ethereum in a User vault at th...</td>\n",
       "    </tr>\n",
       "  </tbody>\n",
       "</table>\n",
       "</div>"
      ],
      "text/plain": [
       "                    Datetime  \\\n",
       "0  2022-04-29 23:59:56+00:00   \n",
       "1  2022-04-29 23:59:55+00:00   \n",
       "2  2022-04-29 23:59:49+00:00   \n",
       "3  2022-04-29 23:59:44+00:00   \n",
       "4  2022-04-29 23:59:28+00:00   \n",
       "\n",
       "                                               Tweet  \n",
       "0  I know it may not feel like it but this is the...  \n",
       "1  #Bitcoin Last Price $38575 #BTC 🚀\\nDaily Indic...  \n",
       "2  You know whose been swimming with their trunks...  \n",
       "3  How much #Ethereum should one pleb own? 1 whol...  \n",
       "4  Culpower found #ethereum in a User vault at th...  "
      ]
     },
     "execution_count": 13,
     "metadata": {},
     "output_type": "execute_result"
    }
   ],
   "source": [
    "df2.head()"
   ]
  },
  {
   "cell_type": "code",
   "execution_count": 14,
   "id": "8aad26fa",
   "metadata": {},
   "outputs": [],
   "source": [
    "# Inserting currency Column into bitcoin dataframe\n",
    "df.insert(0, 'Currency', 'Bitcoin')"
   ]
  },
  {
   "cell_type": "code",
   "execution_count": 15,
   "id": "22610090",
   "metadata": {},
   "outputs": [],
   "source": [
    "# Inserting currency Column into ethereum dataframe\n",
    "df2.insert(0, 'Currency', 'Ethereum')"
   ]
  },
  {
   "cell_type": "code",
   "execution_count": 16,
   "id": "6d8cb985",
   "metadata": {},
   "outputs": [
    {
     "data": {
      "text/html": [
       "<div>\n",
       "<style scoped>\n",
       "    .dataframe tbody tr th:only-of-type {\n",
       "        vertical-align: middle;\n",
       "    }\n",
       "\n",
       "    .dataframe tbody tr th {\n",
       "        vertical-align: top;\n",
       "    }\n",
       "\n",
       "    .dataframe thead th {\n",
       "        text-align: right;\n",
       "    }\n",
       "</style>\n",
       "<table border=\"1\" class=\"dataframe\">\n",
       "  <thead>\n",
       "    <tr style=\"text-align: right;\">\n",
       "      <th></th>\n",
       "      <th>Currency</th>\n",
       "      <th>Datetime</th>\n",
       "      <th>Tweet</th>\n",
       "    </tr>\n",
       "  </thead>\n",
       "  <tbody>\n",
       "    <tr>\n",
       "      <th>0</th>\n",
       "      <td>Bitcoin</td>\n",
       "      <td>2022-04-29 23:59:58+00:00</td>\n",
       "      <td>#Bitcoin (#BTC) Price Update:\\n    \\nPrice: $3...</td>\n",
       "    </tr>\n",
       "    <tr>\n",
       "      <th>1</th>\n",
       "      <td>Bitcoin</td>\n",
       "      <td>2022-04-29 23:59:58+00:00</td>\n",
       "      <td>Bitcoin price index https://t.co/o7UcHJUhC6 #U...</td>\n",
       "    </tr>\n",
       "    <tr>\n",
       "      <th>2</th>\n",
       "      <td>Bitcoin</td>\n",
       "      <td>2022-04-29 23:59:58+00:00</td>\n",
       "      <td>#silver ape alert emergency update. Jump in : ...</td>\n",
       "    </tr>\n",
       "    <tr>\n",
       "      <th>3</th>\n",
       "      <td>Bitcoin</td>\n",
       "      <td>2022-04-29 23:59:56+00:00</td>\n",
       "      <td>The Dilemma Faced by All Beginners in the Bitc...</td>\n",
       "    </tr>\n",
       "    <tr>\n",
       "      <th>4</th>\n",
       "      <td>Bitcoin</td>\n",
       "      <td>2022-04-29 23:59:55+00:00</td>\n",
       "      <td>#Bitcoin Last Price $38575 #BTC 🚀\\nDaily Indic...</td>\n",
       "    </tr>\n",
       "  </tbody>\n",
       "</table>\n",
       "</div>"
      ],
      "text/plain": [
       "  Currency                   Datetime  \\\n",
       "0  Bitcoin  2022-04-29 23:59:58+00:00   \n",
       "1  Bitcoin  2022-04-29 23:59:58+00:00   \n",
       "2  Bitcoin  2022-04-29 23:59:58+00:00   \n",
       "3  Bitcoin  2022-04-29 23:59:56+00:00   \n",
       "4  Bitcoin  2022-04-29 23:59:55+00:00   \n",
       "\n",
       "                                               Tweet  \n",
       "0  #Bitcoin (#BTC) Price Update:\\n    \\nPrice: $3...  \n",
       "1  Bitcoin price index https://t.co/o7UcHJUhC6 #U...  \n",
       "2  #silver ape alert emergency update. Jump in : ...  \n",
       "3  The Dilemma Faced by All Beginners in the Bitc...  \n",
       "4  #Bitcoin Last Price $38575 #BTC 🚀\\nDaily Indic...  "
      ]
     },
     "execution_count": 16,
     "metadata": {},
     "output_type": "execute_result"
    }
   ],
   "source": [
    "df.head()"
   ]
  },
  {
   "cell_type": "code",
   "execution_count": 17,
   "id": "5e499f04",
   "metadata": {},
   "outputs": [
    {
     "data": {
      "text/html": [
       "<div>\n",
       "<style scoped>\n",
       "    .dataframe tbody tr th:only-of-type {\n",
       "        vertical-align: middle;\n",
       "    }\n",
       "\n",
       "    .dataframe tbody tr th {\n",
       "        vertical-align: top;\n",
       "    }\n",
       "\n",
       "    .dataframe thead th {\n",
       "        text-align: right;\n",
       "    }\n",
       "</style>\n",
       "<table border=\"1\" class=\"dataframe\">\n",
       "  <thead>\n",
       "    <tr style=\"text-align: right;\">\n",
       "      <th></th>\n",
       "      <th>Currency</th>\n",
       "      <th>Datetime</th>\n",
       "      <th>Tweet</th>\n",
       "    </tr>\n",
       "  </thead>\n",
       "  <tbody>\n",
       "    <tr>\n",
       "      <th>0</th>\n",
       "      <td>Ethereum</td>\n",
       "      <td>2022-04-29 23:59:56+00:00</td>\n",
       "      <td>I know it may not feel like it but this is the...</td>\n",
       "    </tr>\n",
       "    <tr>\n",
       "      <th>1</th>\n",
       "      <td>Ethereum</td>\n",
       "      <td>2022-04-29 23:59:55+00:00</td>\n",
       "      <td>#Bitcoin Last Price $38575 #BTC 🚀\\nDaily Indic...</td>\n",
       "    </tr>\n",
       "    <tr>\n",
       "      <th>2</th>\n",
       "      <td>Ethereum</td>\n",
       "      <td>2022-04-29 23:59:49+00:00</td>\n",
       "      <td>You know whose been swimming with their trunks...</td>\n",
       "    </tr>\n",
       "    <tr>\n",
       "      <th>3</th>\n",
       "      <td>Ethereum</td>\n",
       "      <td>2022-04-29 23:59:44+00:00</td>\n",
       "      <td>How much #Ethereum should one pleb own? 1 whol...</td>\n",
       "    </tr>\n",
       "    <tr>\n",
       "      <th>4</th>\n",
       "      <td>Ethereum</td>\n",
       "      <td>2022-04-29 23:59:28+00:00</td>\n",
       "      <td>Culpower found #ethereum in a User vault at th...</td>\n",
       "    </tr>\n",
       "  </tbody>\n",
       "</table>\n",
       "</div>"
      ],
      "text/plain": [
       "   Currency                   Datetime  \\\n",
       "0  Ethereum  2022-04-29 23:59:56+00:00   \n",
       "1  Ethereum  2022-04-29 23:59:55+00:00   \n",
       "2  Ethereum  2022-04-29 23:59:49+00:00   \n",
       "3  Ethereum  2022-04-29 23:59:44+00:00   \n",
       "4  Ethereum  2022-04-29 23:59:28+00:00   \n",
       "\n",
       "                                               Tweet  \n",
       "0  I know it may not feel like it but this is the...  \n",
       "1  #Bitcoin Last Price $38575 #BTC 🚀\\nDaily Indic...  \n",
       "2  You know whose been swimming with their trunks...  \n",
       "3  How much #Ethereum should one pleb own? 1 whol...  \n",
       "4  Culpower found #ethereum in a User vault at th...  "
      ]
     },
     "execution_count": 17,
     "metadata": {},
     "output_type": "execute_result"
    }
   ],
   "source": [
    "df2.head()"
   ]
  },
  {
   "cell_type": "code",
   "execution_count": 18,
   "id": "cfb50241",
   "metadata": {},
   "outputs": [],
   "source": [
    "#Changing Datetime datatype from object to datetime\n",
    "\n",
    "df['Datetime'] = pd.to_datetime(df['Datetime'], errors = 'coerce')\n",
    "df2['Datetime'] = pd.to_datetime(df2['Datetime'], errors = 'coerce')"
   ]
  },
  {
   "cell_type": "code",
   "execution_count": 19,
   "id": "6a945e5d",
   "metadata": {},
   "outputs": [],
   "source": [
    "#Keeping only dates in Datetime column and removing time stamp\n",
    "\n",
    "df['Date'] = [d.date() for d in df['Datetime']]\n",
    "df2['Date'] = [d.date() for d in df2['Datetime']]"
   ]
  },
  {
   "cell_type": "code",
   "execution_count": 20,
   "id": "4195898c",
   "metadata": {},
   "outputs": [],
   "source": [
    "# dropping datetime column containing both date and time as Date Column already created\n",
    "\n",
    "df.drop('Datetime', inplace=True, axis=1)\n",
    "df2.drop('Datetime', inplace=True, axis=1)"
   ]
  },
  {
   "cell_type": "code",
   "execution_count": 21,
   "id": "83a365d2",
   "metadata": {},
   "outputs": [
    {
     "data": {
      "text/html": [
       "<div>\n",
       "<style scoped>\n",
       "    .dataframe tbody tr th:only-of-type {\n",
       "        vertical-align: middle;\n",
       "    }\n",
       "\n",
       "    .dataframe tbody tr th {\n",
       "        vertical-align: top;\n",
       "    }\n",
       "\n",
       "    .dataframe thead th {\n",
       "        text-align: right;\n",
       "    }\n",
       "</style>\n",
       "<table border=\"1\" class=\"dataframe\">\n",
       "  <thead>\n",
       "    <tr style=\"text-align: right;\">\n",
       "      <th></th>\n",
       "      <th>Currency</th>\n",
       "      <th>Tweet</th>\n",
       "      <th>Date</th>\n",
       "    </tr>\n",
       "  </thead>\n",
       "  <tbody>\n",
       "    <tr>\n",
       "      <th>0</th>\n",
       "      <td>Bitcoin</td>\n",
       "      <td>#Bitcoin (#BTC) Price Update:\\n    \\nPrice: $3...</td>\n",
       "      <td>2022-04-29</td>\n",
       "    </tr>\n",
       "    <tr>\n",
       "      <th>1</th>\n",
       "      <td>Bitcoin</td>\n",
       "      <td>Bitcoin price index https://t.co/o7UcHJUhC6 #U...</td>\n",
       "      <td>2022-04-29</td>\n",
       "    </tr>\n",
       "    <tr>\n",
       "      <th>2</th>\n",
       "      <td>Bitcoin</td>\n",
       "      <td>#silver ape alert emergency update. Jump in : ...</td>\n",
       "      <td>2022-04-29</td>\n",
       "    </tr>\n",
       "    <tr>\n",
       "      <th>3</th>\n",
       "      <td>Bitcoin</td>\n",
       "      <td>The Dilemma Faced by All Beginners in the Bitc...</td>\n",
       "      <td>2022-04-29</td>\n",
       "    </tr>\n",
       "    <tr>\n",
       "      <th>4</th>\n",
       "      <td>Bitcoin</td>\n",
       "      <td>#Bitcoin Last Price $38575 #BTC 🚀\\nDaily Indic...</td>\n",
       "      <td>2022-04-29</td>\n",
       "    </tr>\n",
       "  </tbody>\n",
       "</table>\n",
       "</div>"
      ],
      "text/plain": [
       "  Currency                                              Tweet        Date\n",
       "0  Bitcoin  #Bitcoin (#BTC) Price Update:\\n    \\nPrice: $3...  2022-04-29\n",
       "1  Bitcoin  Bitcoin price index https://t.co/o7UcHJUhC6 #U...  2022-04-29\n",
       "2  Bitcoin  #silver ape alert emergency update. Jump in : ...  2022-04-29\n",
       "3  Bitcoin  The Dilemma Faced by All Beginners in the Bitc...  2022-04-29\n",
       "4  Bitcoin  #Bitcoin Last Price $38575 #BTC 🚀\\nDaily Indic...  2022-04-29"
      ]
     },
     "execution_count": 21,
     "metadata": {},
     "output_type": "execute_result"
    }
   ],
   "source": [
    "df.head()"
   ]
  },
  {
   "cell_type": "code",
   "execution_count": 22,
   "id": "ae2c7b11",
   "metadata": {},
   "outputs": [
    {
     "data": {
      "text/html": [
       "<div>\n",
       "<style scoped>\n",
       "    .dataframe tbody tr th:only-of-type {\n",
       "        vertical-align: middle;\n",
       "    }\n",
       "\n",
       "    .dataframe tbody tr th {\n",
       "        vertical-align: top;\n",
       "    }\n",
       "\n",
       "    .dataframe thead th {\n",
       "        text-align: right;\n",
       "    }\n",
       "</style>\n",
       "<table border=\"1\" class=\"dataframe\">\n",
       "  <thead>\n",
       "    <tr style=\"text-align: right;\">\n",
       "      <th></th>\n",
       "      <th>Currency</th>\n",
       "      <th>Tweet</th>\n",
       "      <th>Date</th>\n",
       "    </tr>\n",
       "  </thead>\n",
       "  <tbody>\n",
       "    <tr>\n",
       "      <th>0</th>\n",
       "      <td>Ethereum</td>\n",
       "      <td>I know it may not feel like it but this is the...</td>\n",
       "      <td>2022-04-29</td>\n",
       "    </tr>\n",
       "    <tr>\n",
       "      <th>1</th>\n",
       "      <td>Ethereum</td>\n",
       "      <td>#Bitcoin Last Price $38575 #BTC 🚀\\nDaily Indic...</td>\n",
       "      <td>2022-04-29</td>\n",
       "    </tr>\n",
       "    <tr>\n",
       "      <th>2</th>\n",
       "      <td>Ethereum</td>\n",
       "      <td>You know whose been swimming with their trunks...</td>\n",
       "      <td>2022-04-29</td>\n",
       "    </tr>\n",
       "    <tr>\n",
       "      <th>3</th>\n",
       "      <td>Ethereum</td>\n",
       "      <td>How much #Ethereum should one pleb own? 1 whol...</td>\n",
       "      <td>2022-04-29</td>\n",
       "    </tr>\n",
       "    <tr>\n",
       "      <th>4</th>\n",
       "      <td>Ethereum</td>\n",
       "      <td>Culpower found #ethereum in a User vault at th...</td>\n",
       "      <td>2022-04-29</td>\n",
       "    </tr>\n",
       "  </tbody>\n",
       "</table>\n",
       "</div>"
      ],
      "text/plain": [
       "   Currency                                              Tweet        Date\n",
       "0  Ethereum  I know it may not feel like it but this is the...  2022-04-29\n",
       "1  Ethereum  #Bitcoin Last Price $38575 #BTC 🚀\\nDaily Indic...  2022-04-29\n",
       "2  Ethereum  You know whose been swimming with their trunks...  2022-04-29\n",
       "3  Ethereum  How much #Ethereum should one pleb own? 1 whol...  2022-04-29\n",
       "4  Ethereum  Culpower found #ethereum in a User vault at th...  2022-04-29"
      ]
     },
     "execution_count": 22,
     "metadata": {},
     "output_type": "execute_result"
    }
   ],
   "source": [
    "df2.head()"
   ]
  },
  {
   "cell_type": "code",
   "execution_count": 23,
   "id": "f4d4194d",
   "metadata": {},
   "outputs": [],
   "source": [
    "# Cleaning the data from #,link,spcial unwanted symbols, etc....\n",
    "\n",
    "def cleanTwt(twt):\n",
    "    twt = re.sub('#', '', twt)\n",
    "    #twt = re.sub('#Bitcoin', 'Bitcoin', twt)\n",
    "    twt = re.sub('#[A-Za-z0-9]', '', twt)\n",
    "    twt = re.sub('\\\\n', '', twt)\n",
    "    twt = re.sub('https?:\\/\\/\\S+', '', twt)\n",
    "    twt = re.sub(\"@[A-Za-z0-9]+\",\"\",twt)\n",
    "    twt = re.sub(r\"(?:\\@|http?\\://|https?\\://|www)\\S+\", \"\", twt)\n",
    "    twt = \" \".join(twt.split())\n",
    "    #twt = twt.replace(\"#\", \"\").replace(\"\", \" \")\n",
    "    return twt"
   ]
  },
  {
   "cell_type": "code",
   "execution_count": 24,
   "id": "6e4a3592",
   "metadata": {},
   "outputs": [],
   "source": [
    "#Applying the clean function to dataframes for both bitcoin and ethereum\n",
    "\n",
    "df['Clean_Tweets'] = df['Tweet'].apply(cleanTwt)\n",
    "df2['Clean_Tweets'] = df2['Tweet'].apply(cleanTwt)"
   ]
  },
  {
   "cell_type": "code",
   "execution_count": 25,
   "id": "06897482",
   "metadata": {},
   "outputs": [],
   "source": [
    "#dropping tweet column as we will analyse only the cleaned tweets now\n",
    "\n",
    "df.drop('Tweet', inplace=True, axis=1)\n",
    "df2.drop('Tweet', inplace=True, axis=1)"
   ]
  },
  {
   "cell_type": "code",
   "execution_count": 26,
   "id": "34e8ea5c",
   "metadata": {},
   "outputs": [
    {
     "data": {
      "text/html": [
       "<div>\n",
       "<style scoped>\n",
       "    .dataframe tbody tr th:only-of-type {\n",
       "        vertical-align: middle;\n",
       "    }\n",
       "\n",
       "    .dataframe tbody tr th {\n",
       "        vertical-align: top;\n",
       "    }\n",
       "\n",
       "    .dataframe thead th {\n",
       "        text-align: right;\n",
       "    }\n",
       "</style>\n",
       "<table border=\"1\" class=\"dataframe\">\n",
       "  <thead>\n",
       "    <tr style=\"text-align: right;\">\n",
       "      <th></th>\n",
       "      <th>Currency</th>\n",
       "      <th>Date</th>\n",
       "      <th>Clean_Tweets</th>\n",
       "    </tr>\n",
       "  </thead>\n",
       "  <tbody>\n",
       "    <tr>\n",
       "      <th>0</th>\n",
       "      <td>Bitcoin</td>\n",
       "      <td>2022-04-29</td>\n",
       "      <td>Bitcoin (BTC) Price Update: Price: $38,651Last...</td>\n",
       "    </tr>\n",
       "    <tr>\n",
       "      <th>1</th>\n",
       "      <td>Bitcoin</td>\n",
       "      <td>2022-04-29</td>\n",
       "      <td>Bitcoin price index USD EUR CNY GBP RUB</td>\n",
       "    </tr>\n",
       "    <tr>\n",
       "      <th>2</th>\n",
       "      <td>Bitcoin</td>\n",
       "      <td>2022-04-29</td>\n",
       "      <td>silver ape alert emergency update. Jump in : L...</td>\n",
       "    </tr>\n",
       "    <tr>\n",
       "      <th>3</th>\n",
       "      <td>Bitcoin</td>\n",
       "      <td>2022-04-29</td>\n",
       "      <td>The Dilemma Faced by All Beginners in the Bitc...</td>\n",
       "    </tr>\n",
       "    <tr>\n",
       "      <th>4</th>\n",
       "      <td>Bitcoin</td>\n",
       "      <td>2022-04-29</td>\n",
       "      <td>Bitcoin Last Price $38575 BTC 🚀Daily Indicator...</td>\n",
       "    </tr>\n",
       "  </tbody>\n",
       "</table>\n",
       "</div>"
      ],
      "text/plain": [
       "  Currency        Date                                       Clean_Tweets\n",
       "0  Bitcoin  2022-04-29  Bitcoin (BTC) Price Update: Price: $38,651Last...\n",
       "1  Bitcoin  2022-04-29            Bitcoin price index USD EUR CNY GBP RUB\n",
       "2  Bitcoin  2022-04-29  silver ape alert emergency update. Jump in : L...\n",
       "3  Bitcoin  2022-04-29  The Dilemma Faced by All Beginners in the Bitc...\n",
       "4  Bitcoin  2022-04-29  Bitcoin Last Price $38575 BTC 🚀Daily Indicator..."
      ]
     },
     "execution_count": 26,
     "metadata": {},
     "output_type": "execute_result"
    }
   ],
   "source": [
    "df.head()"
   ]
  },
  {
   "cell_type": "code",
   "execution_count": 27,
   "id": "0608d633",
   "metadata": {},
   "outputs": [
    {
     "data": {
      "text/html": [
       "<div>\n",
       "<style scoped>\n",
       "    .dataframe tbody tr th:only-of-type {\n",
       "        vertical-align: middle;\n",
       "    }\n",
       "\n",
       "    .dataframe tbody tr th {\n",
       "        vertical-align: top;\n",
       "    }\n",
       "\n",
       "    .dataframe thead th {\n",
       "        text-align: right;\n",
       "    }\n",
       "</style>\n",
       "<table border=\"1\" class=\"dataframe\">\n",
       "  <thead>\n",
       "    <tr style=\"text-align: right;\">\n",
       "      <th></th>\n",
       "      <th>Currency</th>\n",
       "      <th>Date</th>\n",
       "      <th>Clean_Tweets</th>\n",
       "    </tr>\n",
       "  </thead>\n",
       "  <tbody>\n",
       "    <tr>\n",
       "      <th>0</th>\n",
       "      <td>Ethereum</td>\n",
       "      <td>2022-04-29</td>\n",
       "      <td>I know it may not feel like it but this is the...</td>\n",
       "    </tr>\n",
       "    <tr>\n",
       "      <th>1</th>\n",
       "      <td>Ethereum</td>\n",
       "      <td>2022-04-29</td>\n",
       "      <td>Bitcoin Last Price $38575 BTC 🚀Daily Indicator...</td>\n",
       "    </tr>\n",
       "    <tr>\n",
       "      <th>2</th>\n",
       "      <td>Ethereum</td>\n",
       "      <td>2022-04-29</td>\n",
       "      <td>You know whose been swimming with their trunks...</td>\n",
       "    </tr>\n",
       "    <tr>\n",
       "      <th>3</th>\n",
       "      <td>Ethereum</td>\n",
       "      <td>2022-04-29</td>\n",
       "      <td>How much Ethereum should one pleb own? 1 whole...</td>\n",
       "    </tr>\n",
       "    <tr>\n",
       "      <th>4</th>\n",
       "      <td>Ethereum</td>\n",
       "      <td>2022-04-29</td>\n",
       "      <td>Culpower found ethereum in a User vault at thi...</td>\n",
       "    </tr>\n",
       "  </tbody>\n",
       "</table>\n",
       "</div>"
      ],
      "text/plain": [
       "   Currency        Date                                       Clean_Tweets\n",
       "0  Ethereum  2022-04-29  I know it may not feel like it but this is the...\n",
       "1  Ethereum  2022-04-29  Bitcoin Last Price $38575 BTC 🚀Daily Indicator...\n",
       "2  Ethereum  2022-04-29  You know whose been swimming with their trunks...\n",
       "3  Ethereum  2022-04-29  How much Ethereum should one pleb own? 1 whole...\n",
       "4  Ethereum  2022-04-29  Culpower found ethereum in a User vault at thi..."
      ]
     },
     "execution_count": 27,
     "metadata": {},
     "output_type": "execute_result"
    }
   ],
   "source": [
    "df2.head()"
   ]
  },
  {
   "cell_type": "code",
   "execution_count": 28,
   "id": "48ce846b",
   "metadata": {},
   "outputs": [
    {
     "data": {
      "text/plain": [
       "(42913, 3)"
      ]
     },
     "execution_count": 28,
     "metadata": {},
     "output_type": "execute_result"
    }
   ],
   "source": [
    "df.shape"
   ]
  },
  {
   "cell_type": "code",
   "execution_count": 29,
   "id": "0eb2984b",
   "metadata": {},
   "outputs": [
    {
     "data": {
      "text/plain": [
       "(50001, 3)"
      ]
     },
     "execution_count": 29,
     "metadata": {},
     "output_type": "execute_result"
    }
   ],
   "source": [
    "df2.shape"
   ]
  },
  {
   "cell_type": "code",
   "execution_count": 30,
   "id": "0f4ae73c",
   "metadata": {},
   "outputs": [],
   "source": [
    "# understanding polarity and Subjectivity of the tweets\n",
    "\n",
    "def getSubjectivity(twt):\n",
    "    return TextBlob(twt).sentiment.subjectivity\n",
    "\n",
    "def getPolarity(twt):\n",
    "    return TextBlob(twt).sentiment.polarity"
   ]
  },
  {
   "cell_type": "code",
   "execution_count": null,
   "id": "bb2bc731",
   "metadata": {},
   "outputs": [],
   "source": [
    "#creating subjectivity and polarity columns into the dataframe and applying function\n",
    "\n",
    "df['Subjectivity'] = df['Clean_Tweets'].apply(getSubjectivity)\n",
    "\n",
    "df['Polarity'] = df['Clean_Tweets'].apply(getPolarity)\n",
    "\n",
    "\n",
    "\n",
    "df2['Subjectivity'] = df2['Clean_Tweets'].apply(getSubjectivity)\n",
    "\n",
    "df2['Polarity'] = df2['Clean_Tweets'].apply(getPolarity)"
   ]
  },
  {
   "cell_type": "code",
   "execution_count": null,
   "id": "05a1f030",
   "metadata": {},
   "outputs": [],
   "source": [
    "df.head()"
   ]
  },
  {
   "cell_type": "code",
   "execution_count": null,
   "id": "c2338d61",
   "metadata": {},
   "outputs": [],
   "source": [
    "df2.head()"
   ]
  },
  {
   "cell_type": "code",
   "execution_count": null,
   "id": "3987a8d3",
   "metadata": {},
   "outputs": [],
   "source": [
    "#defining sentiment analysis function\n",
    "\n",
    "def Sentiment(marks):\n",
    "    if marks < 0:\n",
    "        return 'Negative'\n",
    "    elif marks == 0:\n",
    "        return 'Neutral'\n",
    "    else:\n",
    "\n",
    "        return 'Positive'"
   ]
  },
  {
   "cell_type": "code",
   "execution_count": null,
   "id": "9175fe20",
   "metadata": {},
   "outputs": [],
   "source": [
    "#creating sentiment column and applying function\n",
    "\n",
    "df['Sentiments'] = df['Polarity'].apply(Sentiment)\n",
    "df2['Sentiments'] = df2['Polarity'].apply(Sentiment)"
   ]
  },
  {
   "cell_type": "code",
   "execution_count": null,
   "id": "7f964533",
   "metadata": {},
   "outputs": [],
   "source": [
    "df.head()"
   ]
  },
  {
   "cell_type": "code",
   "execution_count": null,
   "id": "c981b1a8",
   "metadata": {},
   "outputs": [],
   "source": [
    "df2.head()"
   ]
  },
  {
   "cell_type": "code",
   "execution_count": null,
   "id": "fe955daa",
   "metadata": {},
   "outputs": [],
   "source": [
    "#Merging both the dataframes (bitcoin and ethereum) into one dataframe\n",
    "\n",
    "merged_df = pd.concat([df, df2], ignore_index=True)"
   ]
  },
  {
   "cell_type": "code",
   "execution_count": null,
   "id": "f2fa13e8",
   "metadata": {},
   "outputs": [],
   "source": [
    "merged_df.shape"
   ]
  },
  {
   "cell_type": "code",
   "execution_count": null,
   "id": "e8a0024f",
   "metadata": {},
   "outputs": [],
   "source": [
    "merged_df.head()"
   ]
  },
  {
   "cell_type": "code",
   "execution_count": null,
   "id": "4b034089",
   "metadata": {},
   "outputs": [],
   "source": [
    "merged_df.tail()"
   ]
  },
  {
   "cell_type": "code",
   "execution_count": null,
   "id": "e42f5922",
   "metadata": {},
   "outputs": [],
   "source": [
    "#Bar plot for ethereum\n",
    "\n",
    "merged_df[merged_df['Currency'] == 'Ethereum']['Sentiments'].value_counts().plot(kind = 'bar')"
   ]
  },
  {
   "cell_type": "code",
   "execution_count": null,
   "id": "26ce6543",
   "metadata": {
    "scrolled": true
   },
   "outputs": [],
   "source": [
    "#Bar plot for bitcoin\n",
    "\n",
    "merged_df[merged_df['Currency'] == 'Bitcoin']['Sentiments'].value_counts().plot(kind = 'bar')"
   ]
  },
  {
   "cell_type": "code",
   "execution_count": null,
   "id": "fc04c55f",
   "metadata": {},
   "outputs": [],
   "source": [
    "#Plotting scatter plot between Polarity and Subjectivity\n",
    "\n",
    "\n",
    "#plt.figure(figsize = (8,6))\n",
    "#for i in range(0, df.shape[0]):\n",
    "#    plt.scatter(df['Polarity'][i], df['Subjectivity'],[i],color='Blue')\n",
    "#plt.show()"
   ]
  },
  {
   "cell_type": "code",
   "execution_count": null,
   "id": "a8fb8673",
   "metadata": {},
   "outputs": [],
   "source": [
    "#reading crypto price data using json file and saving into dataframe\n",
    "\n",
    "df3 = pd.read_json('crypto.json')\n",
    "df3.head()"
   ]
  },
  {
   "cell_type": "code",
   "execution_count": null,
   "id": "4101c178",
   "metadata": {},
   "outputs": [],
   "source": [
    "# merging crypto price dataframe and tweet daraframe into one dataframe\n",
    "\n",
    "check = pd.concat([df3, merged_df], ignore_index=True)"
   ]
  },
  {
   "cell_type": "code",
   "execution_count": null,
   "id": "c02df9c9",
   "metadata": {},
   "outputs": [],
   "source": [
    "check.head()"
   ]
  },
  {
   "cell_type": "code",
   "execution_count": null,
   "id": "0a17243b",
   "metadata": {},
   "outputs": [],
   "source": [
    "# replacing missing values for required text. It will help us in filtering purpose while analysing the data\n",
    "\n",
    "check['MarketCap'] = check['MarketCap'].replace(np.NaN, 'Tweet Data')\n",
    "check['Volume'] = check['Volume'].replace(np.NaN, 'Tweet Data')\n",
    "check['Open'] = check['Open'].replace(np.NaN, 'Tweet Data')\n",
    "check['Close'] = check['Close'].replace(np.NaN, 'Tweet Data')\n",
    "check['7D_SMA'] = check['7D_SMA'].replace(np.NaN, 'Tweet Data')\n",
    "check['20D_SMA'] = check['20D_SMA'].replace(np.NaN, 'Tweet Data')\n",
    "check['50D_SMA'] = check['50D_SMA'].replace(np.NaN, 'Tweet Data')\n",
    "check['100D_SMA'] = check['100D_SMA'].replace(np.NaN, 'Tweet Data')\n",
    "check['Close_INR'] = check['Close_INR'].replace(np.NaN, 'Tweet Data')\n",
    "check['Close_EUR'] = check['Close_EUR'].replace(np.NaN, 'Tweet Data')\n",
    "check['Close_JPY'] = check['Close_JPY'].replace(np.NaN, 'Tweet Data')\n",
    "check['Close_GBP'] = check['Close_GBP'].replace(np.NaN, 'Tweet Data')\n",
    "check['Close_CAD'] = check['Close_CAD'].replace(np.NaN, 'Tweet Data')\n",
    "check['Close_DKK'] = check['Close_DKK'].replace(np.NaN, 'Tweet Data')\n",
    "\n",
    "\n",
    "check['Clean_Tweets'] = check['Clean_Tweets'].replace(np.NaN, 'Price Data')\n",
    "check['Subjectivity'] = check['Subjectivity'].replace(np.NaN, 'Price Data')\n",
    "check['Polarity'] = check['Polarity'].replace(np.NaN, 'Price Data')\n",
    "check['Sentiments'] = check['Sentiments'].replace(np.NaN, 'Price Data')"
   ]
  },
  {
   "cell_type": "code",
   "execution_count": null,
   "id": "324adb80",
   "metadata": {},
   "outputs": [],
   "source": [
    "check.head()"
   ]
  },
  {
   "cell_type": "code",
   "execution_count": null,
   "id": "eba743f8",
   "metadata": {},
   "outputs": [],
   "source": [
    "check.tail()"
   ]
  },
  {
   "cell_type": "code",
   "execution_count": null,
   "id": "f2a9b0f6",
   "metadata": {},
   "outputs": [],
   "source": [
    "# saving bitcoin tweet data in a single dataframe\n",
    "\n",
    "check_bitcoin_tweetdata = check[check['Currency'] == 'Bitcoin']\n",
    "check_bitcoin_tweetdata = check_bitcoin_tweetdata[check_bitcoin_tweetdata['MarketCap'] == 'Tweet Data']\n"
   ]
  },
  {
   "cell_type": "code",
   "execution_count": null,
   "id": "e85024c9",
   "metadata": {},
   "outputs": [],
   "source": [
    "check_bitcoin_tweetdata.head()"
   ]
  },
  {
   "cell_type": "code",
   "execution_count": null,
   "id": "5815aa94",
   "metadata": {
    "scrolled": false
   },
   "outputs": [],
   "source": [
    "check_bitcoin_tweetdata.tail()"
   ]
  },
  {
   "cell_type": "code",
   "execution_count": null,
   "id": "d75cca06",
   "metadata": {},
   "outputs": [],
   "source": [
    "#Bar plot for bitcoin\n",
    "\n",
    "check_bitcoin_tweetdata['Sentiments'].value_counts().plot(kind = 'bar')"
   ]
  },
  {
   "cell_type": "code",
   "execution_count": null,
   "id": "1dd50bbd",
   "metadata": {},
   "outputs": [],
   "source": [
    "# Defining CAGR function which will help in calculating the CAGR\n",
    "\n",
    "def CAGR(start, end, time):\n",
    "    Growth_Rate = (end/start)**(1/time)-1\n",
    "    return Growth_Rate"
   ]
  },
  {
   "cell_type": "code",
   "execution_count": null,
   "id": "65bb6d02",
   "metadata": {},
   "outputs": [],
   "source": [
    "df3.head(2)"
   ]
  },
  {
   "cell_type": "code",
   "execution_count": null,
   "id": "0ccb28e8",
   "metadata": {},
   "outputs": [],
   "source": [
    "#Saving bitcoin data into one file\n",
    "\n",
    "df_bitcoin = df3[df3['Currency'] == 'bitcoin']\n",
    "df_bitcoin.head()"
   ]
  },
  {
   "cell_type": "code",
   "execution_count": null,
   "id": "bbe50ff6",
   "metadata": {},
   "outputs": [],
   "source": [
    "#Saving ethereum data into one file\n",
    "\n",
    "df_ethereum = df3[df3['Currency'] == 'ethereum']\n",
    "df_ethereum.head()"
   ]
  },
  {
   "cell_type": "code",
   "execution_count": null,
   "id": "eddc8090",
   "metadata": {},
   "outputs": [],
   "source": [
    "df_ethereum.tail()"
   ]
  },
  {
   "cell_type": "code",
   "execution_count": null,
   "id": "019fd1ad",
   "metadata": {},
   "outputs": [],
   "source": [
    "#Extracting Close price data for a particular date\n",
    "\n",
    "start_btc = float(df_bitcoin.Close[df_bitcoin.Date == '2020-04-30'])\n",
    "start_eth = float(df_ethereum.Close[df_ethereum.Date == '2020-04-30'])\n",
    "print(start_eth)\n",
    "print(start_btc)"
   ]
  },
  {
   "cell_type": "code",
   "execution_count": null,
   "id": "2ef13206",
   "metadata": {},
   "outputs": [],
   "source": [
    "#Extracting Close price data for a particular date\n",
    "\n",
    "end_btc = float(df_bitcoin.Close[df_bitcoin.Date == '2022-05-01'])\n",
    "end_eth = float(df_ethereum.Close[df_ethereum.Date == '2022-05-01'])\n",
    "print(end_eth)\n",
    "print(end_btc)"
   ]
  },
  {
   "cell_type": "code",
   "execution_count": null,
   "id": "f53308eb",
   "metadata": {},
   "outputs": [],
   "source": [
    "#Calculating CAGR for ethereum in the last 2 years\n",
    "\n",
    "eth_CAGR = CAGR(start_eth, end_eth, 2)\n",
    "btc_CAGR = CAGR(start_btc, end_btc, 2)\n",
    "\n",
    "print('Etherium grows with a CAGR of {:.2%}'.format(eth_CAGR))\n",
    "print('Bitcoin grows with a CAGR of {:.2%}'.format(btc_CAGR))"
   ]
  },
  {
   "cell_type": "code",
   "execution_count": null,
   "id": "7ec66cb8",
   "metadata": {},
   "outputs": [],
   "source": [
    "# Defining forcast function \n",
    "\n",
    "def forecast(end, CAGRr, years):\n",
    "    forc = end + (1+CAGRr)**years\n",
    "    return forc"
   ]
  },
  {
   "cell_type": "code",
   "execution_count": null,
   "id": "42037d22",
   "metadata": {},
   "outputs": [],
   "source": [
    "# forcasting ethereum price in next 6 years based on CAGR calculated\n",
    "\n",
    "years = 6\n",
    "\n",
    "print('Forcast for ethereum in 6 years time', forecast(end_eth, eth_CAGR, years))\n",
    "print('Forcast for bitcoin in 6 years time', forecast(end_btc, btc_CAGR, years))"
   ]
  }
 ],
 "metadata": {
  "kernelspec": {
   "display_name": "Python 3 (ipykernel)",
   "language": "python",
   "name": "python3"
  },
  "language_info": {
   "codemirror_mode": {
    "name": "ipython",
    "version": 3
   },
   "file_extension": ".py",
   "mimetype": "text/x-python",
   "name": "python",
   "nbconvert_exporter": "python",
   "pygments_lexer": "ipython3",
   "version": "3.9.7"
  }
 },
 "nbformat": 4,
 "nbformat_minor": 5
}
