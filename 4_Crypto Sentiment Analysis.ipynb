{
 "cells": [
  {
   "cell_type": "code",
   "execution_count": 1,
   "metadata": {},
   "outputs": [],
   "source": [
    "#Importing required libraries\n",
    "\n",
    "import snscrape.modules.twitter as sntwitter\n",
    "import pandas as pd\n",
    "import matplotlib.pyplot as plt\n",
    "import seaborn as sns\n",
    "import re  \n",
    "import spacy\n",
    "from spacy import displacy\n",
    "from collections import Counter\n",
    "import en_core_web_sm\n",
    "import tweepy\n",
    "from textblob import TextBlob\n",
    "import matplotlib.pyplot as plt\n",
    "plt.style.use('fivethirtyeight')"
   ]
  },
  {
   "cell_type": "code",
   "execution_count": 2,
   "metadata": {},
   "outputs": [],
   "source": [
    "import json"
   ]
  },
  {
   "cell_type": "code",
   "execution_count": 3,
   "metadata": {
    "scrolled": true
   },
   "outputs": [],
   "source": [
    "#Tweet_limits = 500000\n",
    "\n",
    "#tweet_list = [] #Creating list to append tweet data to\n",
    "\n",
    "#for i,tweet in enumerate(sntwitter.TwitterSearchScraper('ethereum since:2020-03-21 until:2022-04-30').get_items()):\n",
    "#    if i>Tweet_limits:\n",
    "#        break\n",
    "#    tweet_list.append([tweet.date, tweet.id, tweet.content, tweet.username])"
   ]
  },
  {
   "cell_type": "code",
   "execution_count": 4,
   "metadata": {},
   "outputs": [],
   "source": [
    "#with open('ethereumtweet.json','w') as f:\n",
    "#    json.dump(tweet_list,f, default=str)"
   ]
  },
  {
   "cell_type": "code",
   "execution_count": 5,
   "metadata": {},
   "outputs": [
    {
     "data": {
      "text/html": [
       "<div>\n",
       "<style scoped>\n",
       "    .dataframe tbody tr th:only-of-type {\n",
       "        vertical-align: middle;\n",
       "    }\n",
       "\n",
       "    .dataframe tbody tr th {\n",
       "        vertical-align: top;\n",
       "    }\n",
       "\n",
       "    .dataframe thead th {\n",
       "        text-align: right;\n",
       "    }\n",
       "</style>\n",
       "<table border=\"1\" class=\"dataframe\">\n",
       "  <thead>\n",
       "    <tr style=\"text-align: right;\">\n",
       "      <th></th>\n",
       "      <th>0</th>\n",
       "      <th>1</th>\n",
       "      <th>2</th>\n",
       "      <th>3</th>\n",
       "    </tr>\n",
       "  </thead>\n",
       "  <tbody>\n",
       "    <tr>\n",
       "      <th>0</th>\n",
       "      <td>2022-04-29 23:59:58+00:00</td>\n",
       "      <td>1520191193321295872</td>\n",
       "      <td>#Bitcoin (#BTC) Price Update:\\n    \\nPrice: $3...</td>\n",
       "      <td>cr_bitcoin</td>\n",
       "    </tr>\n",
       "    <tr>\n",
       "      <th>1</th>\n",
       "      <td>2022-04-29 23:59:58+00:00</td>\n",
       "      <td>1520191192243265536</td>\n",
       "      <td>Bitcoin price index https://t.co/o7UcHJUhC6 #U...</td>\n",
       "      <td>WorldCoinIndex</td>\n",
       "    </tr>\n",
       "    <tr>\n",
       "      <th>2</th>\n",
       "      <td>2022-04-29 23:59:58+00:00</td>\n",
       "      <td>1520191191098265608</td>\n",
       "      <td>#silver ape alert emergency update. Jump in : ...</td>\n",
       "      <td>AMoneyfest</td>\n",
       "    </tr>\n",
       "    <tr>\n",
       "      <th>3</th>\n",
       "      <td>2022-04-29 23:59:56+00:00</td>\n",
       "      <td>1520191181937954817</td>\n",
       "      <td>The Dilemma Faced by All Beginners in the Bitc...</td>\n",
       "      <td>pilscoop</td>\n",
       "    </tr>\n",
       "    <tr>\n",
       "      <th>4</th>\n",
       "      <td>2022-04-29 23:59:55+00:00</td>\n",
       "      <td>1520191176854454273</td>\n",
       "      <td>#Bitcoin Last Price $38575 #BTC 🚀\\nDaily Indic...</td>\n",
       "      <td>LivePriceCrypto</td>\n",
       "    </tr>\n",
       "    <tr>\n",
       "      <th>...</th>\n",
       "      <td>...</td>\n",
       "      <td>...</td>\n",
       "      <td>...</td>\n",
       "      <td>...</td>\n",
       "    </tr>\n",
       "    <tr>\n",
       "      <th>42908</th>\n",
       "      <td>2022-04-29 08:26:42+00:00</td>\n",
       "      <td>1519956326759157763</td>\n",
       "      <td>Truth is that your “save the planet from #Bitc...</td>\n",
       "      <td>CarlBMenger</td>\n",
       "    </tr>\n",
       "    <tr>\n",
       "      <th>42909</th>\n",
       "      <td>2022-04-29 08:26:40+00:00</td>\n",
       "      <td>1519956319733751809</td>\n",
       "      <td>Bitcoin ATM installed in Mexico's Senate Build...</td>\n",
       "      <td>blizzy_shane</td>\n",
       "    </tr>\n",
       "    <tr>\n",
       "      <th>42910</th>\n",
       "      <td>2022-04-29 08:26:28+00:00</td>\n",
       "      <td>1519956267569233920</td>\n",
       "      <td>Ünlü Yatırım Bankasından Dünyada Bir İlk! Bitc...</td>\n",
       "      <td>cointr</td>\n",
       "    </tr>\n",
       "    <tr>\n",
       "      <th>42911</th>\n",
       "      <td>2022-04-29 08:26:24+00:00</td>\n",
       "      <td>1519956251907657728</td>\n",
       "      <td>#BTC #bitcoin GÜNCEL ANALİZ\\nDostlar grafiğe e...</td>\n",
       "      <td>KriptoAcmi</td>\n",
       "    </tr>\n",
       "    <tr>\n",
       "      <th>42912</th>\n",
       "      <td>2022-04-29 08:26:23+00:00</td>\n",
       "      <td>1519956249122512896</td>\n",
       "      <td>Current #Bitcoin Price is $39522 #BTC #Crypto</td>\n",
       "      <td>IAmBitcoinBot</td>\n",
       "    </tr>\n",
       "  </tbody>\n",
       "</table>\n",
       "<p>42913 rows × 4 columns</p>\n",
       "</div>"
      ],
      "text/plain": [
       "                               0                    1  \\\n",
       "0      2022-04-29 23:59:58+00:00  1520191193321295872   \n",
       "1      2022-04-29 23:59:58+00:00  1520191192243265536   \n",
       "2      2022-04-29 23:59:58+00:00  1520191191098265608   \n",
       "3      2022-04-29 23:59:56+00:00  1520191181937954817   \n",
       "4      2022-04-29 23:59:55+00:00  1520191176854454273   \n",
       "...                          ...                  ...   \n",
       "42908  2022-04-29 08:26:42+00:00  1519956326759157763   \n",
       "42909  2022-04-29 08:26:40+00:00  1519956319733751809   \n",
       "42910  2022-04-29 08:26:28+00:00  1519956267569233920   \n",
       "42911  2022-04-29 08:26:24+00:00  1519956251907657728   \n",
       "42912  2022-04-29 08:26:23+00:00  1519956249122512896   \n",
       "\n",
       "                                                       2                3  \n",
       "0      #Bitcoin (#BTC) Price Update:\\n    \\nPrice: $3...       cr_bitcoin  \n",
       "1      Bitcoin price index https://t.co/o7UcHJUhC6 #U...   WorldCoinIndex  \n",
       "2      #silver ape alert emergency update. Jump in : ...       AMoneyfest  \n",
       "3      The Dilemma Faced by All Beginners in the Bitc...         pilscoop  \n",
       "4      #Bitcoin Last Price $38575 #BTC 🚀\\nDaily Indic...  LivePriceCrypto  \n",
       "...                                                  ...              ...  \n",
       "42908  Truth is that your “save the planet from #Bitc...      CarlBMenger  \n",
       "42909  Bitcoin ATM installed in Mexico's Senate Build...     blizzy_shane  \n",
       "42910  Ünlü Yatırım Bankasından Dünyada Bir İlk! Bitc...           cointr  \n",
       "42911  #BTC #bitcoin GÜNCEL ANALİZ\\nDostlar grafiğe e...       KriptoAcmi  \n",
       "42912      Current #Bitcoin Price is $39522 #BTC #Crypto    IAmBitcoinBot  \n",
       "\n",
       "[42913 rows x 4 columns]"
      ]
     },
     "execution_count": 5,
     "metadata": {},
     "output_type": "execute_result"
    }
   ],
   "source": [
    "df = pd.read_json('bitcointweets.json')\n",
    "df"
   ]
  },
  {
   "cell_type": "code",
   "execution_count": 6,
   "metadata": {},
   "outputs": [],
   "source": [
    "df.rename(columns = {0:'Datetime'}, inplace = True)\n",
    "df.rename(columns = {1:'Tweet_id'}, inplace = True)\n",
    "df.rename(columns = {2:'Tweet'}, inplace = True)\n",
    "df.rename(columns = {3:'User'}, inplace = True)"
   ]
  },
  {
   "cell_type": "code",
   "execution_count": 7,
   "metadata": {
    "scrolled": true
   },
   "outputs": [
    {
     "data": {
      "text/html": [
       "<div>\n",
       "<style scoped>\n",
       "    .dataframe tbody tr th:only-of-type {\n",
       "        vertical-align: middle;\n",
       "    }\n",
       "\n",
       "    .dataframe tbody tr th {\n",
       "        vertical-align: top;\n",
       "    }\n",
       "\n",
       "    .dataframe thead th {\n",
       "        text-align: right;\n",
       "    }\n",
       "</style>\n",
       "<table border=\"1\" class=\"dataframe\">\n",
       "  <thead>\n",
       "    <tr style=\"text-align: right;\">\n",
       "      <th></th>\n",
       "      <th>Datetime</th>\n",
       "      <th>Tweet_id</th>\n",
       "      <th>Tweet</th>\n",
       "      <th>User</th>\n",
       "    </tr>\n",
       "  </thead>\n",
       "  <tbody>\n",
       "    <tr>\n",
       "      <th>0</th>\n",
       "      <td>2022-04-29 23:59:58+00:00</td>\n",
       "      <td>1520191193321295872</td>\n",
       "      <td>#Bitcoin (#BTC) Price Update:\\n    \\nPrice: $3...</td>\n",
       "      <td>cr_bitcoin</td>\n",
       "    </tr>\n",
       "    <tr>\n",
       "      <th>1</th>\n",
       "      <td>2022-04-29 23:59:58+00:00</td>\n",
       "      <td>1520191192243265536</td>\n",
       "      <td>Bitcoin price index https://t.co/o7UcHJUhC6 #U...</td>\n",
       "      <td>WorldCoinIndex</td>\n",
       "    </tr>\n",
       "    <tr>\n",
       "      <th>2</th>\n",
       "      <td>2022-04-29 23:59:58+00:00</td>\n",
       "      <td>1520191191098265608</td>\n",
       "      <td>#silver ape alert emergency update. Jump in : ...</td>\n",
       "      <td>AMoneyfest</td>\n",
       "    </tr>\n",
       "    <tr>\n",
       "      <th>3</th>\n",
       "      <td>2022-04-29 23:59:56+00:00</td>\n",
       "      <td>1520191181937954817</td>\n",
       "      <td>The Dilemma Faced by All Beginners in the Bitc...</td>\n",
       "      <td>pilscoop</td>\n",
       "    </tr>\n",
       "    <tr>\n",
       "      <th>4</th>\n",
       "      <td>2022-04-29 23:59:55+00:00</td>\n",
       "      <td>1520191176854454273</td>\n",
       "      <td>#Bitcoin Last Price $38575 #BTC 🚀\\nDaily Indic...</td>\n",
       "      <td>LivePriceCrypto</td>\n",
       "    </tr>\n",
       "  </tbody>\n",
       "</table>\n",
       "</div>"
      ],
      "text/plain": [
       "                    Datetime             Tweet_id  \\\n",
       "0  2022-04-29 23:59:58+00:00  1520191193321295872   \n",
       "1  2022-04-29 23:59:58+00:00  1520191192243265536   \n",
       "2  2022-04-29 23:59:58+00:00  1520191191098265608   \n",
       "3  2022-04-29 23:59:56+00:00  1520191181937954817   \n",
       "4  2022-04-29 23:59:55+00:00  1520191176854454273   \n",
       "\n",
       "                                               Tweet             User  \n",
       "0  #Bitcoin (#BTC) Price Update:\\n    \\nPrice: $3...       cr_bitcoin  \n",
       "1  Bitcoin price index https://t.co/o7UcHJUhC6 #U...   WorldCoinIndex  \n",
       "2  #silver ape alert emergency update. Jump in : ...       AMoneyfest  \n",
       "3  The Dilemma Faced by All Beginners in the Bitc...         pilscoop  \n",
       "4  #Bitcoin Last Price $38575 #BTC 🚀\\nDaily Indic...  LivePriceCrypto  "
      ]
     },
     "execution_count": 7,
     "metadata": {},
     "output_type": "execute_result"
    }
   ],
   "source": [
    "df.head()"
   ]
  },
  {
   "cell_type": "code",
   "execution_count": 8,
   "metadata": {},
   "outputs": [],
   "source": [
    "with open('bitcointweet.json','w') as f:\n",
    "    json.dump(df,f, default=str)"
   ]
  },
  {
   "cell_type": "code",
   "execution_count": 9,
   "metadata": {
    "scrolled": true
   },
   "outputs": [],
   "source": [
    "#Creating dataframe\n",
    "\n",
    "#twitter_data = pd.DataFrame(tweet_list, columns=['datetime', 'tweet_Id', 'text', 'Username'])\n",
    "\n",
    "# Display first 5 entries from dataframe\n",
    "#twitter_data.tail()"
   ]
  },
  {
   "cell_type": "code",
   "execution_count": 10,
   "metadata": {},
   "outputs": [],
   "source": [
    "tweets = df"
   ]
  },
  {
   "cell_type": "code",
   "execution_count": 11,
   "metadata": {},
   "outputs": [],
   "source": [
    "# Dropping all the data but tweets\n",
    "\n",
    "tweets.drop('Datetime', inplace=True, axis=1)\n",
    "tweets.drop('Tweet_id', inplace=True, axis=1)\n",
    "tweets.drop('User', inplace=True, axis=1)"
   ]
  },
  {
   "cell_type": "code",
   "execution_count": 12,
   "metadata": {},
   "outputs": [
    {
     "data": {
      "text/html": [
       "<div>\n",
       "<style scoped>\n",
       "    .dataframe tbody tr th:only-of-type {\n",
       "        vertical-align: middle;\n",
       "    }\n",
       "\n",
       "    .dataframe tbody tr th {\n",
       "        vertical-align: top;\n",
       "    }\n",
       "\n",
       "    .dataframe thead th {\n",
       "        text-align: right;\n",
       "    }\n",
       "</style>\n",
       "<table border=\"1\" class=\"dataframe\">\n",
       "  <thead>\n",
       "    <tr style=\"text-align: right;\">\n",
       "      <th></th>\n",
       "      <th>Tweet</th>\n",
       "    </tr>\n",
       "  </thead>\n",
       "  <tbody>\n",
       "    <tr>\n",
       "      <th>0</th>\n",
       "      <td>#Bitcoin (#BTC) Price Update:\\n    \\nPrice: $3...</td>\n",
       "    </tr>\n",
       "    <tr>\n",
       "      <th>1</th>\n",
       "      <td>Bitcoin price index https://t.co/o7UcHJUhC6 #U...</td>\n",
       "    </tr>\n",
       "    <tr>\n",
       "      <th>2</th>\n",
       "      <td>#silver ape alert emergency update. Jump in : ...</td>\n",
       "    </tr>\n",
       "    <tr>\n",
       "      <th>3</th>\n",
       "      <td>The Dilemma Faced by All Beginners in the Bitc...</td>\n",
       "    </tr>\n",
       "    <tr>\n",
       "      <th>4</th>\n",
       "      <td>#Bitcoin Last Price $38575 #BTC 🚀\\nDaily Indic...</td>\n",
       "    </tr>\n",
       "  </tbody>\n",
       "</table>\n",
       "</div>"
      ],
      "text/plain": [
       "                                               Tweet\n",
       "0  #Bitcoin (#BTC) Price Update:\\n    \\nPrice: $3...\n",
       "1  Bitcoin price index https://t.co/o7UcHJUhC6 #U...\n",
       "2  #silver ape alert emergency update. Jump in : ...\n",
       "3  The Dilemma Faced by All Beginners in the Bitc...\n",
       "4  #Bitcoin Last Price $38575 #BTC 🚀\\nDaily Indic..."
      ]
     },
     "execution_count": 12,
     "metadata": {},
     "output_type": "execute_result"
    }
   ],
   "source": [
    "tweets.head()"
   ]
  },
  {
   "cell_type": "code",
   "execution_count": 13,
   "metadata": {},
   "outputs": [],
   "source": [
    "# Cleaning the data from #,link,spcial unwanted symbols, etc....\n",
    "\n",
    "def cleanTwt(twt):\n",
    "    twt = re.sub('#', '', twt)\n",
    "    #twt = re.sub('#Bitcoin', 'Bitcoin', twt)\n",
    "    twt = re.sub('#[A-Za-z0-9]', '', twt)\n",
    "    twt = re.sub('\\\\n', '', twt)\n",
    "    twt = re.sub('https?:\\/\\/\\S+', '', twt)\n",
    "    twt = re.sub(\"@[A-Za-z0-9]+\",\"\",twt)\n",
    "    twt = re.sub(r\"(?:\\@|http?\\://|https?\\://|www)\\S+\", \"\", twt)\n",
    "    twt = \" \".join(twt.split())\n",
    "    #twt = twt.replace(\"#\", \"\").replace(\"\", \" \")\n",
    "    return twt"
   ]
  },
  {
   "cell_type": "code",
   "execution_count": 14,
   "metadata": {},
   "outputs": [],
   "source": [
    "tweets['Clean_Tweets'] = tweets['Tweet'].apply(cleanTwt)"
   ]
  },
  {
   "cell_type": "code",
   "execution_count": 15,
   "metadata": {},
   "outputs": [
    {
     "data": {
      "text/html": [
       "<div>\n",
       "<style scoped>\n",
       "    .dataframe tbody tr th:only-of-type {\n",
       "        vertical-align: middle;\n",
       "    }\n",
       "\n",
       "    .dataframe tbody tr th {\n",
       "        vertical-align: top;\n",
       "    }\n",
       "\n",
       "    .dataframe thead th {\n",
       "        text-align: right;\n",
       "    }\n",
       "</style>\n",
       "<table border=\"1\" class=\"dataframe\">\n",
       "  <thead>\n",
       "    <tr style=\"text-align: right;\">\n",
       "      <th></th>\n",
       "      <th>Tweet</th>\n",
       "      <th>Clean_Tweets</th>\n",
       "    </tr>\n",
       "  </thead>\n",
       "  <tbody>\n",
       "    <tr>\n",
       "      <th>0</th>\n",
       "      <td>#Bitcoin (#BTC) Price Update:\\n    \\nPrice: $3...</td>\n",
       "      <td>Bitcoin (BTC) Price Update: Price: $38,651Last...</td>\n",
       "    </tr>\n",
       "    <tr>\n",
       "      <th>1</th>\n",
       "      <td>Bitcoin price index https://t.co/o7UcHJUhC6 #U...</td>\n",
       "      <td>Bitcoin price index USD EUR CNY GBP RUB</td>\n",
       "    </tr>\n",
       "    <tr>\n",
       "      <th>2</th>\n",
       "      <td>#silver ape alert emergency update. Jump in : ...</td>\n",
       "      <td>silver ape alert emergency update. Jump in : L...</td>\n",
       "    </tr>\n",
       "    <tr>\n",
       "      <th>3</th>\n",
       "      <td>The Dilemma Faced by All Beginners in the Bitc...</td>\n",
       "      <td>The Dilemma Faced by All Beginners in the Bitc...</td>\n",
       "    </tr>\n",
       "    <tr>\n",
       "      <th>4</th>\n",
       "      <td>#Bitcoin Last Price $38575 #BTC 🚀\\nDaily Indic...</td>\n",
       "      <td>Bitcoin Last Price $38575 BTC 🚀Daily Indicator...</td>\n",
       "    </tr>\n",
       "  </tbody>\n",
       "</table>\n",
       "</div>"
      ],
      "text/plain": [
       "                                               Tweet  \\\n",
       "0  #Bitcoin (#BTC) Price Update:\\n    \\nPrice: $3...   \n",
       "1  Bitcoin price index https://t.co/o7UcHJUhC6 #U...   \n",
       "2  #silver ape alert emergency update. Jump in : ...   \n",
       "3  The Dilemma Faced by All Beginners in the Bitc...   \n",
       "4  #Bitcoin Last Price $38575 #BTC 🚀\\nDaily Indic...   \n",
       "\n",
       "                                        Clean_Tweets  \n",
       "0  Bitcoin (BTC) Price Update: Price: $38,651Last...  \n",
       "1            Bitcoin price index USD EUR CNY GBP RUB  \n",
       "2  silver ape alert emergency update. Jump in : L...  \n",
       "3  The Dilemma Faced by All Beginners in the Bitc...  \n",
       "4  Bitcoin Last Price $38575 BTC 🚀Daily Indicator...  "
      ]
     },
     "execution_count": 15,
     "metadata": {},
     "output_type": "execute_result"
    }
   ],
   "source": [
    "tweets.head()"
   ]
  },
  {
   "cell_type": "code",
   "execution_count": 16,
   "metadata": {},
   "outputs": [
    {
     "data": {
      "text/plain": [
       "(42913, 2)"
      ]
     },
     "execution_count": 16,
     "metadata": {},
     "output_type": "execute_result"
    }
   ],
   "source": [
    "tweets.shape"
   ]
  },
  {
   "cell_type": "code",
   "execution_count": 17,
   "metadata": {},
   "outputs": [],
   "source": [
    "# understanding polarity and Subjectivity of the tweets\n",
    "\n",
    "def getSubjectivity(twt):\n",
    "    return TextBlob(twt).sentiment.subjectivity\n",
    "\n",
    "def getPolarity(twt):\n",
    "    return TextBlob(twt).sentiment.polarity\n",
    "\n",
    "tweets['Subjectivity'] = tweets['Clean_Tweets'].apply(getSubjectivity)\n",
    "\n",
    "tweets['Polarity'] = tweets['Clean_Tweets'].apply(getPolarity)"
   ]
  },
  {
   "cell_type": "code",
   "execution_count": 18,
   "metadata": {},
   "outputs": [
    {
     "data": {
      "text/html": [
       "<div>\n",
       "<style scoped>\n",
       "    .dataframe tbody tr th:only-of-type {\n",
       "        vertical-align: middle;\n",
       "    }\n",
       "\n",
       "    .dataframe tbody tr th {\n",
       "        vertical-align: top;\n",
       "    }\n",
       "\n",
       "    .dataframe thead th {\n",
       "        text-align: right;\n",
       "    }\n",
       "</style>\n",
       "<table border=\"1\" class=\"dataframe\">\n",
       "  <thead>\n",
       "    <tr style=\"text-align: right;\">\n",
       "      <th></th>\n",
       "      <th>Tweet</th>\n",
       "      <th>Clean_Tweets</th>\n",
       "      <th>Subjectivity</th>\n",
       "      <th>Polarity</th>\n",
       "    </tr>\n",
       "  </thead>\n",
       "  <tbody>\n",
       "    <tr>\n",
       "      <th>0</th>\n",
       "      <td>#Bitcoin (#BTC) Price Update:\\n    \\nPrice: $3...</td>\n",
       "      <td>Bitcoin (BTC) Price Update: Price: $38,651Last...</td>\n",
       "      <td>0.000000</td>\n",
       "      <td>0.000000</td>\n",
       "    </tr>\n",
       "    <tr>\n",
       "      <th>1</th>\n",
       "      <td>Bitcoin price index https://t.co/o7UcHJUhC6 #U...</td>\n",
       "      <td>Bitcoin price index USD EUR CNY GBP RUB</td>\n",
       "      <td>0.000000</td>\n",
       "      <td>0.000000</td>\n",
       "    </tr>\n",
       "    <tr>\n",
       "      <th>2</th>\n",
       "      <td>#silver ape alert emergency update. Jump in : ...</td>\n",
       "      <td>silver ape alert emergency update. Jump in : L...</td>\n",
       "      <td>0.500000</td>\n",
       "      <td>0.136364</td>\n",
       "    </tr>\n",
       "    <tr>\n",
       "      <th>3</th>\n",
       "      <td>The Dilemma Faced by All Beginners in the Bitc...</td>\n",
       "      <td>The Dilemma Faced by All Beginners in the Bitc...</td>\n",
       "      <td>0.535714</td>\n",
       "      <td>0.285714</td>\n",
       "    </tr>\n",
       "    <tr>\n",
       "      <th>4</th>\n",
       "      <td>#Bitcoin Last Price $38575 #BTC 🚀\\nDaily Indic...</td>\n",
       "      <td>Bitcoin Last Price $38575 BTC 🚀Daily Indicator...</td>\n",
       "      <td>0.066667</td>\n",
       "      <td>0.000000</td>\n",
       "    </tr>\n",
       "  </tbody>\n",
       "</table>\n",
       "</div>"
      ],
      "text/plain": [
       "                                               Tweet  \\\n",
       "0  #Bitcoin (#BTC) Price Update:\\n    \\nPrice: $3...   \n",
       "1  Bitcoin price index https://t.co/o7UcHJUhC6 #U...   \n",
       "2  #silver ape alert emergency update. Jump in : ...   \n",
       "3  The Dilemma Faced by All Beginners in the Bitc...   \n",
       "4  #Bitcoin Last Price $38575 #BTC 🚀\\nDaily Indic...   \n",
       "\n",
       "                                        Clean_Tweets  Subjectivity  Polarity  \n",
       "0  Bitcoin (BTC) Price Update: Price: $38,651Last...      0.000000  0.000000  \n",
       "1            Bitcoin price index USD EUR CNY GBP RUB      0.000000  0.000000  \n",
       "2  silver ape alert emergency update. Jump in : L...      0.500000  0.136364  \n",
       "3  The Dilemma Faced by All Beginners in the Bitc...      0.535714  0.285714  \n",
       "4  Bitcoin Last Price $38575 BTC 🚀Daily Indicator...      0.066667  0.000000  "
      ]
     },
     "execution_count": 18,
     "metadata": {},
     "output_type": "execute_result"
    }
   ],
   "source": [
    "tweets.head()"
   ]
  },
  {
   "cell_type": "code",
   "execution_count": 19,
   "metadata": {},
   "outputs": [],
   "source": [
    "#sentiment analysis based on Polarity marks\n",
    "\n",
    "def Sentiment(marks):\n",
    "    if marks < 0:\n",
    "        return 'Negative'\n",
    "    elif marks == 0:\n",
    "        return 'Neutral'\n",
    "    else:\n",
    "        return 'Positive'"
   ]
  },
  {
   "cell_type": "code",
   "execution_count": 20,
   "metadata": {},
   "outputs": [],
   "source": [
    "tweets['Sentiments'] = tweets['Polarity'].apply(Sentiment)"
   ]
  },
  {
   "cell_type": "code",
   "execution_count": 21,
   "metadata": {},
   "outputs": [
    {
     "data": {
      "text/html": [
       "<div>\n",
       "<style scoped>\n",
       "    .dataframe tbody tr th:only-of-type {\n",
       "        vertical-align: middle;\n",
       "    }\n",
       "\n",
       "    .dataframe tbody tr th {\n",
       "        vertical-align: top;\n",
       "    }\n",
       "\n",
       "    .dataframe thead th {\n",
       "        text-align: right;\n",
       "    }\n",
       "</style>\n",
       "<table border=\"1\" class=\"dataframe\">\n",
       "  <thead>\n",
       "    <tr style=\"text-align: right;\">\n",
       "      <th></th>\n",
       "      <th>Tweet</th>\n",
       "      <th>Clean_Tweets</th>\n",
       "      <th>Subjectivity</th>\n",
       "      <th>Polarity</th>\n",
       "      <th>Sentiments</th>\n",
       "    </tr>\n",
       "  </thead>\n",
       "  <tbody>\n",
       "    <tr>\n",
       "      <th>0</th>\n",
       "      <td>#Bitcoin (#BTC) Price Update:\\n    \\nPrice: $3...</td>\n",
       "      <td>Bitcoin (BTC) Price Update: Price: $38,651Last...</td>\n",
       "      <td>0.000000</td>\n",
       "      <td>0.000000</td>\n",
       "      <td>Neutral</td>\n",
       "    </tr>\n",
       "    <tr>\n",
       "      <th>1</th>\n",
       "      <td>Bitcoin price index https://t.co/o7UcHJUhC6 #U...</td>\n",
       "      <td>Bitcoin price index USD EUR CNY GBP RUB</td>\n",
       "      <td>0.000000</td>\n",
       "      <td>0.000000</td>\n",
       "      <td>Neutral</td>\n",
       "    </tr>\n",
       "    <tr>\n",
       "      <th>2</th>\n",
       "      <td>#silver ape alert emergency update. Jump in : ...</td>\n",
       "      <td>silver ape alert emergency update. Jump in : L...</td>\n",
       "      <td>0.500000</td>\n",
       "      <td>0.136364</td>\n",
       "      <td>Positive</td>\n",
       "    </tr>\n",
       "    <tr>\n",
       "      <th>3</th>\n",
       "      <td>The Dilemma Faced by All Beginners in the Bitc...</td>\n",
       "      <td>The Dilemma Faced by All Beginners in the Bitc...</td>\n",
       "      <td>0.535714</td>\n",
       "      <td>0.285714</td>\n",
       "      <td>Positive</td>\n",
       "    </tr>\n",
       "    <tr>\n",
       "      <th>4</th>\n",
       "      <td>#Bitcoin Last Price $38575 #BTC 🚀\\nDaily Indic...</td>\n",
       "      <td>Bitcoin Last Price $38575 BTC 🚀Daily Indicator...</td>\n",
       "      <td>0.066667</td>\n",
       "      <td>0.000000</td>\n",
       "      <td>Neutral</td>\n",
       "    </tr>\n",
       "  </tbody>\n",
       "</table>\n",
       "</div>"
      ],
      "text/plain": [
       "                                               Tweet  \\\n",
       "0  #Bitcoin (#BTC) Price Update:\\n    \\nPrice: $3...   \n",
       "1  Bitcoin price index https://t.co/o7UcHJUhC6 #U...   \n",
       "2  #silver ape alert emergency update. Jump in : ...   \n",
       "3  The Dilemma Faced by All Beginners in the Bitc...   \n",
       "4  #Bitcoin Last Price $38575 #BTC 🚀\\nDaily Indic...   \n",
       "\n",
       "                                        Clean_Tweets  Subjectivity  Polarity  \\\n",
       "0  Bitcoin (BTC) Price Update: Price: $38,651Last...      0.000000  0.000000   \n",
       "1            Bitcoin price index USD EUR CNY GBP RUB      0.000000  0.000000   \n",
       "2  silver ape alert emergency update. Jump in : L...      0.500000  0.136364   \n",
       "3  The Dilemma Faced by All Beginners in the Bitc...      0.535714  0.285714   \n",
       "4  Bitcoin Last Price $38575 BTC 🚀Daily Indicator...      0.066667  0.000000   \n",
       "\n",
       "  Sentiments  \n",
       "0    Neutral  \n",
       "1    Neutral  \n",
       "2   Positive  \n",
       "3   Positive  \n",
       "4    Neutral  "
      ]
     },
     "execution_count": 21,
     "metadata": {},
     "output_type": "execute_result"
    }
   ],
   "source": [
    "tweets.head()"
   ]
  },
  {
   "cell_type": "code",
   "execution_count": 22,
   "metadata": {},
   "outputs": [],
   "source": [
    "#Plotting scatter plot between Polarity and Subjectivity\n",
    "\n",
    "\n",
    "#plt.figure(figsize = (8,6))\n",
    "#for i in range(0, tweets.shape[0]):\n",
    "#    plt.scatter(tweets['Polarity'][i], tweets['Subjectivity'],[i],color='Blue')\n",
    "#plt.show()"
   ]
  },
  {
   "cell_type": "code",
   "execution_count": 23,
   "metadata": {},
   "outputs": [
    {
     "data": {
      "text/plain": [
       "<AxesSubplot:>"
      ]
     },
     "execution_count": 23,
     "metadata": {},
     "output_type": "execute_result"
    },
    {
     "data": {
      "image/png": "[encoded data removed]",
      "text/plain": [
       "<Figure size 432x288 with 1 Axes>"
      ]
     },
     "metadata": {},
     "output_type": "display_data"
    }
   ],
   "source": [
    "#Plotting and understanding the public sentiments\n",
    "\n",
    "tweets['Sentiments'].value_counts().plot(kind = 'bar')"
   ]
  }
 ],
 "metadata": {
  "interpreter": {
   "hash": "00ec0b894225f4f77677f22017bd62e253141dd908f387654297929909453b2d"
  },
  "kernelspec": {
   "display_name": "Python 3 (ipykernel)",
   "language": "python",
   "name": "python3"
  },
  "language_info": {
   "codemirror_mode": {
    "name": "ipython",
    "version": 3
   },
   "file_extension": ".py",
   "mimetype": "text/x-python",
   "name": "python",
   "nbconvert_exporter": "python",
   "pygments_lexer": "ipython3",
   "version": "3.9.7"
  }
 },
 "nbformat": 4,
 "nbformat_minor": 2
}
